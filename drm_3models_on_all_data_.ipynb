{
 "cells": [
  {
   "cell_type": "code",
   "execution_count": null,
   "id": "c1837c57-0eee-415d-a4af-5db174b95ae8",
   "metadata": {},
   "outputs": [],
   "source": [
    "import pandas as pd\n",
    "import numpy as np\n",
    "import itertools\n",
    "import drm_basic\n",
    "import time\n",
    "from drm_basic import drm_methods, drm_utils\n",
    "from openpyxl import load_workbook\n",
    "from sklearn.metrics import mean_squared_error, mean_absolute_error\n",
    "import matplotlib.pyplot as plt"
   ]
  },
  {
   "cell_type": "code",
   "execution_count": null,
   "id": "3d8d63b8-ac53-4f74-b405-29dcf70ee625",
   "metadata": {},
   "outputs": [],
   "source": [
    "# Creating the grid with pressure, particle size, and function names\n",
    "pressure_values = [1.1, 1.2, 1.3, 1.4, 1.5, 1.6, 1.7, 1.8, 2.1, 2.3]\n",
    "particle_sizes = [0.5, 2.5, 6.5, 11.5, 16.5, 22.5, 30.5]\n",
    "function_names = [\"BC5\", \"LL5\", \"Gomp4\"]\n",
    "\n",
    "# Create a DataFrame using the cartesian product (equivalent of expand.grid in R)\n",
    "Grid_all = pd.DataFrame(list(itertools.product(pressure_values, particle_sizes, function_names)),\n",
    "                        columns=['pres', 'part_size', 'funct'])"
   ]
  },
  {
   "cell_type": "code",
   "execution_count": null,
   "id": "5fa2f8b2-9f26-4a05-8105-b7658ffd49bc",
   "metadata": {},
   "outputs": [],
   "source": [
    "# List of gases\n",
    "gases = [\"CO2\", \"Helium\", \"Luft\"]"
   ]
  },
  {
   "cell_type": "code",
   "execution_count": null,
   "id": "9bee9e81-e21a-4e11-b91d-bb22cb5a5c1c",
   "metadata": {},
   "outputs": [],
   "source": [
    "def model_performance(Grid_all, gases):\n",
    "    # Setting data frame columns\n",
    "    column_names = [\"Model\", \"RMSE\", \"Mean Absolute Error\", \"Pressure\", \"Particle size\", \n",
    "                    \"Coeff_b\", \"Coeff_c\", \"Coeff_d\", \"Coeff_e\", \"Coeff_f\"]\n",
    "    \n",
    "    # Dictionary to store results for each gas\n",
    "    results = {}\n",
    "    \n",
    "    # Iterating through all gases\n",
    "    for gas in gases:\n",
    "        # Create an empty DataFrame with the assigned column names\n",
    "        result_df = pd.DataFrame(columns=column_names)\n",
    "        \n",
    "        # Iterating over each row in the grid\n",
    "        for index, row in Grid_all.iterrows():\n",
    "            ele = row\n",
    "\n",
    "            if index % 21 == 0:\n",
    "                # Read training data sheet = 1\n",
    "                print(ele['pres'])\n",
    "                sheet1 = pd.read_excel(f\"{gas}/Auswertung_Time_Averaged_{ele['pres']}_{gas}.xlsx\", sheet_name=0)\n",
    "    \n",
    "                # Read test data sheet = 1\n",
    "                sheet2 = pd.read_excel(f\"{gas}/Auswertung_Time_Averaged_{ele['pres']}_{gas}.xlsx\", sheet_name=1)\n",
    "\n",
    "            # Prepare training and test data sets for model building and testing\n",
    "            # Training set\n",
    "            train_data_name = f\"train_data_{ele['pres']}_{gas}_{ele['part_size']}\"\n",
    "            # print(train_data_name)\n",
    "            x_train = sheet1[f\"Zeit {ele['part_size']}\"]\n",
    "            y_train = sheet1[f\"Geschwindigkeit {ele['part_size']}\"]\n",
    "            train_data = pd.DataFrame({\"x\": x_train, \"y\": y_train}).dropna()\n",
    "\n",
    "            # Test set\n",
    "            test_data_name = f\"test_data_{ele['pres']}_{gas}_{ele['part_size']}\"\n",
    "            # print(test_data_name)\n",
    "            x_test = sheet2[f\"Zeit {ele['part_size']}\"]\n",
    "            y_test = sheet2[f\"Geschwindigkeit {ele['part_size']}\"]\n",
    "            test_data = pd.DataFrame({\"x\": x_test, \"y\": y_test}).dropna()\n",
    "\n",
    "            # Training model\n",
    "            funct = ele['funct']\n",
    "            # model_name = f\"model_{ele['pres']}_{gas}_{ele['part_size']}_{funct}\"\n",
    "            model_name = funct\n",
    "            model = getattr(drm_methods, funct)(train_data['y'], train_data['x'])\n",
    "\n",
    "            # Model fitting using test data and evaluation metrics\n",
    "            predicted_values = drm_utils.drm_predict(model, test_data['x'])\n",
    "            rmse_val = np.sqrt(mean_squared_error(test_data['y'], predicted_values))\n",
    "            mean_ae = mean_absolute_error(test_data['y'], predicted_values)\n",
    "            print(f\"Model {funct} RMSE and Mean Absolute Error: {rmse_val}, {mean_ae}\")\n",
    "\n",
    "            # Collecting coefficients from the model\n",
    "            coeffs = model[0].x\n",
    "            coeffs = list(coeffs[:5]) + [None]*(5-len(coeffs[:5]))\n",
    "            row_data = [model_name, rmse_val, mean_ae, ele['pres'], ele['part_size']] + list(coeffs[:5])\n",
    "            result_df.loc[len(result_df)] = row_data\n",
    "        \n",
    "        # Store results for the current gas\n",
    "        results[gas] = result_df\n",
    "    \n",
    "    return results"
   ]
  },
  {
   "cell_type": "code",
   "execution_count": null,
   "id": "fb5124a2-b9ca-4132-b9e0-5c056316b45b",
   "metadata": {},
   "outputs": [],
   "source": [
    "# Storing model and parameter coefficients information for each gas\n",
    "start_time = time.time()\n",
    "result_CO2 = model_performance(Grid_all, gases=[\"CO2\"])\n",
    "result_Helium = model_performance(Grid_all, gases=[\"Helium\"])\n",
    "result_Luft = model_performance(Grid_all, gases=[\"Luft\"])\n",
    "end_time = time.time()\n",
    "print(f\"Time taken by function: {end_time - start_time} seconds\")"
   ]
  },
  {
   "cell_type": "code",
   "execution_count": null,
   "id": "8d21d335-4cdf-420f-a4eb-3e54da1b9aa5",
   "metadata": {},
   "outputs": [],
   "source": [
    "# Write dataframe to Excel files\n",
    "# result_CO2[\"CO2\"].to_excel(\"result_CO2.xlsx\", index=False)\n",
    "# result_Helium[\"Helium\"].to_excel(\"result_Helium.xlsx\", index=False)\n",
    "# result_Luft[\"Luft\"].to_excel(\"result_Luft.xlsx\", index=False)"
   ]
  },
  {
   "cell_type": "code",
   "execution_count": null,
   "id": "6bffaa48-cb50-4f82-a435-06262b13f574",
   "metadata": {},
   "outputs": [],
   "source": []
  }
 ],
 "metadata": {
  "kernelspec": {
   "display_name": "Python 3 (ipykernel)",
   "language": "python",
   "name": "python3"
  },
  "language_info": {
   "codemirror_mode": {
    "name": "ipython",
    "version": 3
   },
   "file_extension": ".py",
   "mimetype": "text/x-python",
   "name": "python",
   "nbconvert_exporter": "python",
   "pygments_lexer": "ipython3",
   "version": "3.10.14"
  }
 },
 "nbformat": 4,
 "nbformat_minor": 5
}
