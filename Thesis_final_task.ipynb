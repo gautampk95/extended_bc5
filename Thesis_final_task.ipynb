{
 "cells": [
  {
   "cell_type": "code",
   "execution_count": 1,
   "id": "fc2543f2-9c74-4e27-ab64-4961dcb6f3e4",
   "metadata": {},
   "outputs": [],
   "source": [
    "import scipy, matplotlib\n",
    "import matplotlib.pyplot as plt\n",
    "from scipy.optimize import curve_fit\n",
    "from scipy.optimize import minimize"
   ]
  },
  {
   "cell_type": "code",
   "execution_count": 2,
   "id": "38ae0f70-2398-4d5b-b3d0-e8b6d548c589",
   "metadata": {},
   "outputs": [],
   "source": [
    "import pandas as pd\n",
    "import numpy as np\n",
    "from sklearn.metrics import mean_squared_error, mean_absolute_error\n",
    "import time\n",
    "import warnings"
   ]
  },
  {
   "cell_type": "code",
   "execution_count": 3,
   "id": "c9332688-081a-4503-a7ed-c80eda06ab30",
   "metadata": {},
   "outputs": [],
   "source": [
    "training = pd.read_csv('training.csv')"
   ]
  },
  {
   "cell_type": "code",
   "execution_count": 4,
   "id": "142ffbf9-bec1-4897-b586-1a303b53afcf",
   "metadata": {},
   "outputs": [],
   "source": [
    "test = pd.read_csv('test.csv')"
   ]
  },
  {
   "cell_type": "code",
   "execution_count": 5,
   "id": "71f4bfcd-1d5f-4e96-bb28-4e1c1dd113a4",
   "metadata": {},
   "outputs": [],
   "source": [
    "def sse(par, data):\n",
    "    x = data['Time']\n",
    "    z = data['Pressure']\n",
    "    y = data['Speed']\n",
    "    w = data['Part_size_original']\n",
    "    b = par[0] + par[5]*z\n",
    "    c = par[1] + par[6]*z\n",
    "    d = par[2] + par[7]*z\n",
    "    e = par[3] + par[8]*z\n",
    "    f = par[4] + par[9]*z\n",
    "    if np.any(e < 1e-10):\n",
    "        return float('inf')\n",
    "    \n",
    "    y_pred = c + ((d - c + f*x)/(1+np.exp(b*(np.log(x)-np.log(e)))))\n",
    "    s_se = np.sum((y - y_pred)**2)\n",
    "    return(s_se)\n",
    "\n",
    "def extended_bc5(test_, coef):\n",
    "    x = test_['Time']\n",
    "    z = test_['Pressure']\n",
    "    w = test_['Part_size_original']\n",
    "    b = coef[0] + coef[5]*z\n",
    "    c = coef[1] + coef[6]*z\n",
    "    d = coef[2] + coef[7]*z\n",
    "    e = coef[3] + coef[8]*z\n",
    "    f = coef[4] + coef[9]*z\n",
    "    y_ = c + ((d - c + f*x)/(1+np.exp(b*(np.log(x)-np.log(e)))))\n",
    "    return(y_)\n"
   ]
  },
  {
   "cell_type": "code",
   "execution_count": 6,
   "id": "896a5b9c-6447-46e5-bf6c-94265a6c9c0b",
   "metadata": {},
   "outputs": [],
   "source": [
    "def sse_nl(par, data):\n",
    "    x = data['Time']\n",
    "    z = data['Pressure']\n",
    "    y = data['Speed']\n",
    "    w = data['Part_size_original']\n",
    "    b = par[0] + par[5]*z + par[10]*(z**2)\n",
    "    c = par[1] + par[6]*z + par[11]*(z**2)\n",
    "    d = par[2] + par[7]*z + par[12]*(z**2)\n",
    "    e = par[3] + par[8]*z + par[13]*(z**2)\n",
    "    f = par[4] + par[9]*z + par[14]*(z**2)\n",
    "    y_pred = c + ((d - c + f*x)/(1+np.exp(b*(np.log(x)-np.log(e)))))\n",
    "    s_se = np.sum((y - y_pred)**2)\n",
    "    return(s_se)\n",
    "\n",
    "def extended_bc5_nl(test_, coef):\n",
    "    x = test_['Time']\n",
    "    z = test_['Pressure']\n",
    "    w = test_['Part_size_original']\n",
    "    b = coef[0] + coef[5]*z + coef[10]*(z**2)\n",
    "    c = coef[1] + coef[6]*z + coef[11]*(z**2)\n",
    "    d = coef[2] + coef[7]*z + coef[12]*(z**2)\n",
    "    e = coef[3] + coef[8]*z + coef[13]*(z**2)\n",
    "    f = coef[4] + coef[9]*z + coef[14]*(z**2)\n",
    "    y_ = c + ((d - c + f*x)/(1+np.exp(b*(np.log(x)-np.log(e)))))\n",
    "    return(y_)"
   ]
  },
  {
   "cell_type": "code",
   "execution_count": null,
   "id": "edc488b2-e46f-4b2f-8d06-45583b172480",
   "metadata": {},
   "outputs": [
    {
     "name": "stdout",
     "output_type": "stream",
     "text": [
      "---Building model using extended BC.5 for CO2---\n"
     ]
    }
   ],
   "source": [
    "## CO2\n",
    "# predictors: pressure, time\n",
    "print(\"---Building model using extended BC.5 for CO2---\")\n",
    "# init_coeff = [6.4790, 17.8232, 170.9843, 19.9785, -9.9553, 1, 1, 1, 1, 1]\n",
    "init_coeff = [6.4790, 17.8232, 170.9843, 19.9785, -9.9553, 1, 1, 1, 1, 1, 1, 1, 1, 1, 1]\n",
    "\n",
    "start_time = time.time()\n",
    "warnings.simplefilter(\"ignore\", RuntimeWarning)\n",
    "coeff_opt = minimize(sse_nl, init_coeff, args = (training[training[\"Gas\"]==\"CO2\"],), method='BFGS', options = {'maxiter' : 10000})\n",
    "end_time = time.time()\n",
    "print(f\"Time taken by function: {end_time - start_time} seconds\")\n",
    "\n",
    "y_pred = extended_bc5_nl(test[test[\"Gas\"]==\"CO2\"], coeff_opt.x)\n",
    "\n",
    "print(\"---Results---\")\n",
    "rmse_val = np.sqrt(mean_squared_error(test[test[\"Gas\"]==\"CO2\"][\"Speed\"], y_pred))\n",
    "mae_val = mean_absolute_error(test[test[\"Gas\"]==\"CO2\"][\"Speed\"], y_pred)\n",
    "print(f\"Custom BC.5 model, RMSE: {rmse_val}\")\n",
    "print(f\"And its Mean Absolute error: {mae_val}\")"
   ]
  },
  {
   "cell_type": "code",
   "execution_count": 36,
   "id": "fae6f0ff-8ac1-42bb-9866-e1a93d4a18de",
   "metadata": {},
   "outputs": [
    {
     "data": {
      "text/plain": [
       "  message: Desired error not necessarily achieved due to precision loss.\n",
       "  success: False\n",
       "   status: 2\n",
       "      fun: 254738796.28506905\n",
       "        x: [ 2.187e+00  7.822e+00  5.986e+02 -1.751e+00 -2.223e+02\n",
       "             2.147e+00  2.231e+01 -8.426e+01  3.377e+00  8.145e+01]\n",
       "      nit: 71\n",
       "      jac: [-2.000e+00  0.000e+00  2.000e+00  2.000e+00 -2.000e+00\n",
       "             2.000e+00 -2.000e+00  0.000e+00 -2.000e+00 -2.000e+00]\n",
       " hess_inv: [[ 9.650e-08 -4.645e-08 ... -2.234e-09 -9.912e-10]\n",
       "            [-4.645e-08  2.264e-07 ...  2.316e-08 -5.116e-08]\n",
       "            ...\n",
       "            [-2.234e-09  2.316e-08 ...  7.962e-09 -3.205e-09]\n",
       "            [-9.912e-10 -5.116e-08 ... -3.205e-09  2.134e-08]]\n",
       "     nfev: 1023\n",
       "     njev: 93"
      ]
     },
     "execution_count": 36,
     "metadata": {},
     "output_type": "execute_result"
    }
   ],
   "source": [
    "coeff_opt"
   ]
  },
  {
   "cell_type": "code",
   "execution_count": 7,
   "id": "33897782-3303-4b24-bdcf-70cee79e52f0",
   "metadata": {},
   "outputs": [
    {
     "name": "stdout",
     "output_type": "stream",
     "text": [
      "---Building model using extended BC.5 for Helium---\n"
     ]
    },
    {
     "name": "stderr",
     "output_type": "stream",
     "text": [
      "C:\\Users\\GP-Preds\\anaconda3\\envs\\mytf\\lib\\site-packages\\scipy\\optimize\\_minimize.py:708: OptimizeWarning: Desired error not necessarily achieved due to precision loss.\n",
      "  res = _minimize_bfgs(fun, x0, args, jac, callback, **options)\n"
     ]
    },
    {
     "name": "stdout",
     "output_type": "stream",
     "text": [
      "         Current function value: 119294448.053477\n",
      "         Iterations: 76\n",
      "         Function evaluations: 1824\n",
      "         Gradient evaluations: 114\n",
      "Time taken by function: 37.712088108062744 seconds\n",
      "---Results---\n",
      "Custom BC.5 model, RMSE: 52.19701121916192\n",
      "And its Mean Absolute error: 30.380414191236195\n"
     ]
    }
   ],
   "source": [
    "## Helium\n",
    "# predictors: pressure, time\n",
    "print(\"---Building model using extended BC.5 for Helium---\")\n",
    "# init_coeff = [3.8302, 41.9722, 415.3618, 3.1784, -67.4586, 1, 1, 1, 1, 1]\n",
    "init_coeff = [3.8302, 41.9722, 415.3618, 3.1784, -67.4586, 1, 1, 1, 1, 1, 1, 1, 1, 1, 1]\n",
    "\n",
    "start_time = time.time()\n",
    "# to ignore RuntimeWarning\n",
    "warnings.simplefilter(\"ignore\", RuntimeWarning)\n",
    "coeff_opt = minimize(sse_nl, init_coeff, args = (training[training[\"Gas\"]==\"Helium\"],), method='BFGS', options = {'maxiter' : 10000, 'disp': True})\n",
    "end_time = time.time()\n",
    "print(f\"Time taken by function: {end_time - start_time} seconds\")\n",
    "\n",
    "y_pred = extended_bc5_nl(test[test[\"Gas\"]==\"Helium\"], coeff_opt.x)\n",
    "\n",
    "print(\"---Results---\")\n",
    "rmse_val = np.sqrt(mean_squared_error(test[test[\"Gas\"]==\"Helium\"][\"Speed\"], y_pred))\n",
    "mae_val = mean_absolute_error(test[test[\"Gas\"]==\"Helium\"][\"Speed\"], y_pred)\n",
    "print(f\"Custom BC.5 model, RMSE: {rmse_val}\")\n",
    "print(f\"And its Mean Absolute error: {mae_val}\")"
   ]
  },
  {
   "cell_type": "code",
   "execution_count": 37,
   "id": "3fcde908-b6bf-4412-a64e-026b2bc758b9",
   "metadata": {},
   "outputs": [
    {
     "data": {
      "text/plain": [
       "  message: CONVERGENCE: REL_REDUCTION_OF_F_<=_FACTR*EPSMCH\n",
       "  success: True\n",
       "   status: 0\n",
       "      fun: 477249541.85902596\n",
       "        x: [ 3.767e+00  4.213e+01  4.156e+02  8.366e-01 -6.690e+01\n",
       "             1.641e+00  1.476e+00  1.600e+00  1.460e+00  2.735e+00]\n",
       "      nit: 5\n",
       "      jac: [-1.862e+06 -1.816e+06 -2.173e+06 -8.570e+07 -5.978e+06\n",
       "            -3.630e+06 -4.738e+06 -4.636e+06 -2.054e+08 -1.351e+07]\n",
       "     nfev: 88\n",
       "     njev: 8\n",
       " hess_inv: <10x10 LbfgsInvHessProduct with dtype=float64>"
      ]
     },
     "execution_count": 37,
     "metadata": {},
     "output_type": "execute_result"
    }
   ],
   "source": [
    "coeff_opt"
   ]
  },
  {
   "cell_type": "code",
   "execution_count": 15,
   "id": "772685cc-aa48-4d94-a5f5-27e1359ffd79",
   "metadata": {},
   "outputs": [
    {
     "name": "stdout",
     "output_type": "stream",
     "text": [
      "---Building model using extended BC.5 for Air (Luft)---\n"
     ]
    },
    {
     "name": "stderr",
     "output_type": "stream",
     "text": [
      "C:\\Users\\GP-Preds\\anaconda3\\envs\\mytf\\lib\\site-packages\\scipy\\optimize\\_minimize.py:708: OptimizeWarning: Desired error not necessarily achieved due to precision loss.\n",
      "  res = _minimize_bfgs(fun, x0, args, jac, callback, **options)\n"
     ]
    },
    {
     "name": "stdout",
     "output_type": "stream",
     "text": [
      "         Current function value: 192618397.775039\n",
      "         Iterations: 131\n",
      "         Function evaluations: 2211\n",
      "         Gradient evaluations: 201\n",
      "Time taken by function: 226.20241332054138 seconds\n",
      "---Results---\n",
      "Custom BC.5 model, RMSE: 14.26767821484053\n",
      "And its Mean Absolute error: 7.632580708526298\n"
     ]
    }
   ],
   "source": [
    "## Luft\n",
    "# predictors: pressure, time\n",
    "print(\"---Building model using extended BC.5 for Air (Luft)---\")\n",
    "# init_coeff = [2.5525, 27.7128, 249.7527, 18.0972, -16.2367, 1, 1, 1, 1, 1]\n",
    "init_coeff = [2.5525, 27.7128, 249.7527, 18.0972, -16.2367, 1, 1, 1, 1, 1, 1, 1, 1, 1, 1]\n",
    "\n",
    "start_time = time.time()\n",
    "# to ignore RuntimeWarning\n",
    "warnings.simplefilter(\"ignore\", RuntimeWarning)\n",
    "coeff_opt = minimize(sse_nl, init_coeff, args = (training[training[\"Gas\"]==\"Luft\"],), method='BFGS', options = {'maxiter' : 10000, 'disp': True})\n",
    "end_time = time.time()\n",
    "print(f\"Time taken by function: {end_time - start_time} seconds\")\n",
    "\n",
    "y_pred = extended_bc5_nl(test[test[\"Gas\"]==\"Luft\"], coeff_opt.x)\n",
    "\n",
    "print(\"---Results---\")\n",
    "rmse_val = np.sqrt(mean_squared_error(test[test[\"Gas\"]==\"Luft\"][\"Speed\"], y_pred))\n",
    "mae_val = mean_absolute_error(test[test[\"Gas\"]==\"Luft\"][\"Speed\"], y_pred)\n",
    "print(f\"Custom BC.5 model, RMSE: {rmse_val}\")\n",
    "print(f\"And its Mean Absolute error: {mae_val}\")"
   ]
  },
  {
   "cell_type": "code",
   "execution_count": 75,
   "id": "f204d1a9-a2cf-40e7-ac93-608dd2762129",
   "metadata": {},
   "outputs": [
    {
     "name": "stdout",
     "output_type": "stream",
     "text": [
      "[ -6.89019738 -94.30699633   0.2528591  -17.3376954   -5.04151834\n",
      "   6.63083808  58.25613681 132.47975004  22.65269336  -1.88838878]\n"
     ]
    }
   ],
   "source": [
    "print(coeff_opt.x)"
   ]
  },
  {
   "cell_type": "code",
   "execution_count": 8,
   "id": "8006f062-8a71-4c20-9072-9d2caf0deeaa",
   "metadata": {},
   "outputs": [
    {
     "name": "stdout",
     "output_type": "stream",
     "text": [
      "[-1.10255204e+01 -6.38718062e+02  3.71625670e+01 -7.83675746e+00\n",
      "  2.48092893e+03  1.49761220e+01  6.45545080e+02  3.66924541e+02\n",
      "  9.56973741e+00 -2.56317576e+03 -3.58633854e+00 -1.47597919e+02\n",
      " -8.05283556e+01 -1.88168253e+00  6.38053110e+02]\n"
     ]
    }
   ],
   "source": [
    "print(coeff_opt.x)"
   ]
  },
  {
   "cell_type": "code",
   "execution_count": null,
   "id": "59f14600-6c74-4010-9ef9-bb51cc7126b4",
   "metadata": {},
   "outputs": [],
   "source": []
  }
 ],
 "metadata": {
  "kernelspec": {
   "display_name": "Python 3 (ipykernel)",
   "language": "python",
   "name": "python3"
  },
  "language_info": {
   "codemirror_mode": {
    "name": "ipython",
    "version": 3
   },
   "file_extension": ".py",
   "mimetype": "text/x-python",
   "name": "python",
   "nbconvert_exporter": "python",
   "pygments_lexer": "ipython3",
   "version": "3.10.14"
  }
 },
 "nbformat": 4,
 "nbformat_minor": 5
}
