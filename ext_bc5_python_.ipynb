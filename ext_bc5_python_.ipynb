{
 "cells": [
  {
   "cell_type": "code",
   "execution_count": null,
   "id": "fc2543f2-9c74-4e27-ab64-4961dcb6f3e4",
   "metadata": {},
   "outputs": [],
   "source": [
    "import scipy, matplotlib\n",
    "import matplotlib.pyplot as plt\n",
    "from scipy.optimize import curve_fit\n",
    "from scipy.optimize import minimize"
   ]
  },
  {
   "cell_type": "code",
   "execution_count": null,
   "id": "38ae0f70-2398-4d5b-b3d0-e8b6d548c589",
   "metadata": {},
   "outputs": [],
   "source": [
    "import pandas as pd\n",
    "import numpy as np\n",
    "from sklearn.metrics import mean_squared_error, mean_absolute_error\n",
    "import time\n",
    "import warnings"
   ]
  },
  {
   "cell_type": "code",
   "execution_count": null,
   "id": "c9332688-081a-4503-a7ed-c80eda06ab30",
   "metadata": {},
   "outputs": [],
   "source": [
    "# training data set. Contains data for all three gases (CO2, Helium, Air)\n",
    "training = pd.read_csv('training.csv')"
   ]
  },
  {
   "cell_type": "code",
   "execution_count": null,
   "id": "142ffbf9-bec1-4897-b586-1a303b53afcf",
   "metadata": {},
   "outputs": [],
   "source": [
    "# test data set. Contains data for all three gases (CO2, Helium, Air)\n",
    "test = pd.read_csv('test.csv')"
   ]
  },
  {
   "cell_type": "code",
   "execution_count": null,
   "id": "71f4bfcd-1d5f-4e96-bb28-4e1c1dd113a4",
   "metadata": {},
   "outputs": [],
   "source": [
    "def sse(par, data):\n",
    "    x = data['Time']\n",
    "    z = data['Pressure']\n",
    "    y = data['Speed']\n",
    "    w = data['Part_size_original']\n",
    "    b = par[0] + par[5]*z\n",
    "    c = par[1] + par[6]*z\n",
    "    d = par[2] + par[7]*z\n",
    "    e = par[3] + par[8]*z\n",
    "    f = par[4] + par[9]*z\n",
    "    if np.any(e < 1e-10):\n",
    "        return float('inf')\n",
    "    \n",
    "    y_pred = c + ((d - c + f*x)/(1+np.exp(b*(np.log(x)-np.log(e)))))\n",
    "    s_se = np.sum((y - y_pred)**2)\n",
    "    return(s_se)\n",
    "\n",
    "def extended_bc5(test_, coef):\n",
    "    x = test_['Time']\n",
    "    z = test_['Pressure']\n",
    "    w = test_['Part_size_original']\n",
    "    b = coef[0] + coef[5]*z\n",
    "    c = coef[1] + coef[6]*z\n",
    "    d = coef[2] + coef[7]*z\n",
    "    e = coef[3] + coef[8]*z\n",
    "    f = coef[4] + coef[9]*z\n",
    "    y_ = c + ((d - c + f*x)/(1+np.exp(b*(np.log(x)-np.log(e)))))\n",
    "    return(y_)\n"
   ]
  },
  {
   "cell_type": "code",
   "execution_count": null,
   "id": "896a5b9c-6447-46e5-bf6c-94265a6c9c0b",
   "metadata": {},
   "outputs": [],
   "source": [
    "def sse_nl(par, data):\n",
    "    x = data['Time']\n",
    "    z = data['Pressure']\n",
    "    y = data['Speed']\n",
    "    w = data['Part_size_original']\n",
    "    b = par[0] + par[5]*z + par[10]*(z**2)\n",
    "    c = par[1] + par[6]*z + par[11]*(z**2)\n",
    "    d = par[2] + par[7]*z + par[12]*(z**2)\n",
    "    e = par[3] + par[8]*z + par[13]*(z**2)\n",
    "    f = par[4] + par[9]*z + par[14]*(z**2)\n",
    "    y_pred = c + ((d - c + f*x)/(1+np.exp(b*(np.log(x)-np.log(e)))))\n",
    "    s_se = np.sum((y - y_pred)**2)\n",
    "    return(s_se)\n",
    "\n",
    "def extended_bc5_nl(test_, coef):\n",
    "    x = test_['Time']\n",
    "    z = test_['Pressure']\n",
    "    w = test_['Part_size_original']\n",
    "    b = coef[0] + coef[5]*z + coef[10]*(z**2)\n",
    "    c = coef[1] + coef[6]*z + coef[11]*(z**2)\n",
    "    d = coef[2] + coef[7]*z + coef[12]*(z**2)\n",
    "    e = coef[3] + coef[8]*z + coef[13]*(z**2)\n",
    "    f = coef[4] + coef[9]*z + coef[14]*(z**2)\n",
    "    y_ = c + ((d - c + f*x)/(1+np.exp(b*(np.log(x)-np.log(e)))))\n",
    "    return(y_)"
   ]
  },
  {
   "cell_type": "code",
   "execution_count": null,
   "id": "edc488b2-e46f-4b2f-8d06-45583b172480",
   "metadata": {},
   "outputs": [],
   "source": [
    "## CO2\n",
    "# predictors: pressure, time\n",
    "print(\"---Building model using extended BC.5 for CO2---\")\n",
    "init_coeff = [6.4790, 17.8232, 170.9843, 19.9785, -9.9553, 1, 1, 1, 1, 1]\n",
    "# init_coeff = [6.4790, 17.8232, 170.9843, 19.9785, -9.9553, 1, 1, 1, 1, 1, 1, 1, 1, 1, 1] # in non-linear case\n",
    "\n",
    "start_time = time.time()\n",
    "# to ignore RuntimeWarning\n",
    "warnings.simplefilter(\"ignore\", RuntimeWarning)\n",
    "\n",
    "# change to sse_nl in case of non-linear functions in the implementation. Change the optimization method = \"abc\" as needed\n",
    "coeff_opt = minimize(sse, init_coeff, args = (training[training[\"Gas\"]==\"CO2\"],), method='BFGS', options = {'maxiter' : 10000})\n",
    "end_time = time.time()\n",
    "\n",
    "print(f\"Time taken by function: {end_time - start_time} seconds\")\n",
    "\n",
    "# change to extended_bc5_nl(...) in case of non-linear functions in the implementation\n",
    "y_pred = extended_bc5(test[test[\"Gas\"]==\"CO2\"], coeff_opt.x)\n",
    "\n",
    "print(\"---Results---\")\n",
    "rmse_val = np.sqrt(mean_squared_error(test[test[\"Gas\"]==\"CO2\"][\"Speed\"], y_pred))\n",
    "mae_val = mean_absolute_error(test[test[\"Gas\"]==\"CO2\"][\"Speed\"], y_pred)\n",
    "print(f\"Custom BC.5 model, RMSE: {rmse_val}\")\n",
    "print(f\"And its Mean Absolute error: {mae_val}\")"
   ]
  },
  {
   "cell_type": "code",
   "execution_count": null,
   "id": "33897782-3303-4b24-bdcf-70cee79e52f0",
   "metadata": {},
   "outputs": [],
   "source": [
    "## Helium\n",
    "# predictors: pressure, time\n",
    "print(\"---Building model using extended BC.5 for Helium---\")\n",
    "init_coeff = [3.8302, 41.9722, 415.3618, 3.1784, -67.4586, 1, 1, 1, 1, 1]\n",
    "# init_coeff = [3.8302, 41.9722, 415.3618, 3.1784, -67.4586, 1, 1, 1, 1, 1, 1, 1, 1, 1, 1] # in non-linear case\n",
    "\n",
    "start_time = time.time()\n",
    "# to ignore RuntimeWarning\n",
    "warnings.simplefilter(\"ignore\", RuntimeWarning)\n",
    "\n",
    "# change to sse_nl in case of non-linear functions in the implementation. Change the optimization method = \"abc\" as needed\n",
    "coeff_opt = minimize(sse, init_coeff, args = (training[training[\"Gas\"]==\"Helium\"],), method='BFGS', options = {'maxiter' : 10000})\n",
    "end_time = time.time()\n",
    "\n",
    "print(f\"Time taken by function: {end_time - start_time} seconds\")\n",
    "\n",
    "# change to extended_bc5_nl(...) in case of non-linear functions in the implementation\n",
    "y_pred = extended_bc5(test[test[\"Gas\"]==\"Helium\"], coeff_opt.x)\n",
    "\n",
    "print(\"---Results---\")\n",
    "rmse_val = np.sqrt(mean_squared_error(test[test[\"Gas\"]==\"Helium\"][\"Speed\"], y_pred))\n",
    "mae_val = mean_absolute_error(test[test[\"Gas\"]==\"Helium\"][\"Speed\"], y_pred)\n",
    "print(f\"Custom BC.5 model, RMSE: {rmse_val}\")\n",
    "print(f\"And its Mean Absolute error: {mae_val}\")"
   ]
  },
  {
   "cell_type": "code",
   "execution_count": null,
   "id": "772685cc-aa48-4d94-a5f5-27e1359ffd79",
   "metadata": {},
   "outputs": [],
   "source": [
    "## Luft\n",
    "# predictors: pressure, time\n",
    "print(\"---Building model using extended BC.5 for Air (Luft)---\")\n",
    "init_coeff = [2.5525, 27.7128, 249.7527, 18.0972, -16.2367, 1, 1, 1, 1, 1]\n",
    "# init_coeff = [2.5525, 27.7128, 249.7527, 18.0972, -16.2367, 1, 1, 1, 1, 1, 1, 1, 1, 1, 1] # in non-linear case\n",
    "\n",
    "start_time = time.time()\n",
    "# to ignore RuntimeWarning\n",
    "warnings.simplefilter(\"ignore\", RuntimeWarning)\n",
    "\n",
    "# change to sse_nl in case of non-linear functions in the implementation. Change the optimization method = \"abc\" as needed\n",
    "coeff_opt = minimize(sse, init_coeff, args = (training[training[\"Gas\"]==\"Luft\"],), method='BFGS', options = {'maxiter' : 10000})\n",
    "end_time = time.time()\n",
    "print(f\"Time taken by function: {end_time - start_time} seconds\")\n",
    "\n",
    "# change to extended_bc5_nl(...) in case of non-linear functions in the implementation\n",
    "y_pred = extended_bc5(test[test[\"Gas\"]==\"Luft\"], coeff_opt.x)\n",
    "\n",
    "print(\"---Results---\")\n",
    "rmse_val = np.sqrt(mean_squared_error(test[test[\"Gas\"]==\"Luft\"][\"Speed\"], y_pred))\n",
    "mae_val = mean_absolute_error(test[test[\"Gas\"]==\"Luft\"][\"Speed\"], y_pred)\n",
    "print(f\"Custom BC.5 model, RMSE: {rmse_val}\")\n",
    "print(f\"And its Mean Absolute error: {mae_val}\")"
   ]
  },
  {
   "cell_type": "code",
   "execution_count": null,
   "id": "96d829f8-4dad-4e3d-9972-0f5875284109",
   "metadata": {},
   "outputs": [],
   "source": []
  }
 ],
 "metadata": {
  "kernelspec": {
   "display_name": "Python 3 (ipykernel)",
   "language": "python",
   "name": "python3"
  },
  "language_info": {
   "codemirror_mode": {
    "name": "ipython",
    "version": 3
   },
   "file_extension": ".py",
   "mimetype": "text/x-python",
   "name": "python",
   "nbconvert_exporter": "python",
   "pygments_lexer": "ipython3",
   "version": "3.10.14"
  }
 },
 "nbformat": 4,
 "nbformat_minor": 5
}
